{
 "cells": [
  {
   "cell_type": "markdown",
   "metadata": {
    "pycharm": {
     "name": "#%% md\n"
    }
   },
   "source": [
    "# References.\n",
    "\n",
    "\n",
    "If you want to learn more about ``Python``, have a look at:\n",
    "\n",
    "- [py4sci](https://github.com/astrofrog/py4sci): A good introduction into scientific python. The lecture material has been taken from there.\n",
    "- [Scipy Lecture Notes](http://www.scipy-lectures.org): A very throrough introduction into scientific Python.\n",
    "- [scipy documentation](https://docs.scipy.org/doc/scipy/index.html) and [numpy documentation](https://numpy.org/doc/stable/):  Very helpful, in particular as reference"
   ]
  },
  {
   "cell_type": "code",
   "execution_count": null,
   "metadata": {
    "pycharm": {
     "name": "#%%\n"
    }
   },
   "outputs": [],
   "source": []
  }
 ],
 "metadata": {
  "kernelspec": {
   "display_name": "Python 3 (ipykernel)",
   "language": "python",
   "name": "python3"
  },
  "language_info": {
   "codemirror_mode": {
    "name": "ipython",
    "version": 3
   },
   "file_extension": ".py",
   "mimetype": "text/x-python",
   "name": "python",
   "nbconvert_exporter": "python",
   "pygments_lexer": "ipython3",
   "version": "3.10.5"
  }
 },
 "nbformat": 4,
 "nbformat_minor": 1
}